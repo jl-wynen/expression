{
 "cells": [
  {
   "cell_type": "code",
   "execution_count": null,
   "id": "1b68a83d-53fd-465f-9822-9e151bef2666",
   "metadata": {},
   "outputs": [],
   "source": [
    "import json\n",
    "from rich import print"
   ]
  },
  {
   "cell_type": "code",
   "execution_count": null,
   "id": "deff0689-1b25-4f11-a28d-d5107974d2a0",
   "metadata": {},
   "outputs": [],
   "source": [
    "with open('deck_benchmark.json', 'r') as f:\n",
    "    results = json.load(f)"
   ]
  },
  {
   "cell_type": "code",
   "execution_count": null,
   "id": "e0202783-84ec-43ce-8663-59b389bd62f4",
   "metadata": {},
   "outputs": [],
   "source": [
    "# if jankas is bottom, switch positions so rest of notebook works\n",
    "results = [\n",
    "    [r[0], {k: [v[1], v[0]] for k, v in r[1].items()}]\n",
    "    for r in results\n",
    "]"
   ]
  },
  {
   "cell_type": "code",
   "execution_count": null,
   "id": "38441e7d-1b00-4c63-88c3-68abde7835b9",
   "metadata": {},
   "outputs": [],
   "source": [
    "results"
   ]
  },
  {
   "cell_type": "code",
   "execution_count": null,
   "id": "5abc195d-dd76-40a9-afc8-b690afcd1eb2",
   "metadata": {},
   "outputs": [],
   "source": [
    "all_won = list(filter(lambda r: all(s[0] > s[1] for s in r[1].values()), results))"
   ]
  },
  {
   "cell_type": "code",
   "execution_count": null,
   "id": "a691fe57-e607-4e0f-b43c-6cf91262712a",
   "metadata": {},
   "outputs": [],
   "source": [
    "all_won"
   ]
  },
  {
   "cell_type": "code",
   "execution_count": null,
   "id": "f35188bf-4363-4942-b4c4-deaf2954d1ad",
   "metadata": {},
   "outputs": [],
   "source": [
    "sorted(all_won, key=lambda r: min(a/(a+b) for a, b in r[1].values()), reverse=True)"
   ]
  },
  {
   "cell_type": "code",
   "execution_count": null,
   "id": "7cc29731-6b5f-43b9-abb4-8aee13facf93",
   "metadata": {},
   "outputs": [],
   "source": []
  }
 ],
 "metadata": {
  "kernelspec": {
   "display_name": "Python 3 (ipykernel)",
   "language": "python",
   "name": "python3"
  },
  "language_info": {
   "codemirror_mode": {
    "name": "ipython",
    "version": 3
   },
   "file_extension": ".py",
   "mimetype": "text/x-python",
   "name": "python",
   "nbconvert_exporter": "python",
   "pygments_lexer": "ipython3",
   "version": "3.8.19"
  }
 },
 "nbformat": 4,
 "nbformat_minor": 5
}
